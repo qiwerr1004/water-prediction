{
 "cells": [
  {
   "cell_type": "code",
   "execution_count": 10,
   "metadata": {},
   "outputs": [],
   "source": [
    "import torch\n",
    "import torch.nn as nn\n",
    "import torch.optim as optim\n",
    "import torch.nn.functional as F\n",
    "from torchsummaryX import summary\n",
    "import matplotlib.pyplot as plt\n",
    "import numpy as np\n",
    "import matplotlib.pyplot as plt\n",
    "import pandas as pd\n",
    "from torch.utils.data import DataLoader, TensorDataset\n",
    "from sklearn.model_selection import train_test_split\n",
    "from sklearn.metrics import mean_squared_error\n",
    "from sklearn.preprocessing import MinMaxScaler\n",
    "from sklearn import metrics\n",
    "import warnings\n",
    "import os\n",
    "warnings.filterwarnings(action='ignore')"
   ]
  },
  {
   "cell_type": "code",
   "execution_count": 11,
   "metadata": {},
   "outputs": [],
   "source": [
    "USE_CUDA = torch.cuda.is_available()\n",
    "DEVICE = torch.device(\"cuda\" if USE_CUDA else \"cpu\")\n",
    "scaler = MinMaxScaler()\n",
    "path = '../data/'"
   ]
  },
  {
   "cell_type": "code",
   "execution_count": null,
   "metadata": {},
   "outputs": [],
   "source": [
    "def normal(data):\n",
    "    data = scaler.fit_transform(data)\n",
    "    return data\n",
    "\n",
    "def renormal(data, scal):\n",
    "    min_value = scal[0]\n",
    "    max_value = scal[1]\n",
    "    data = data * (max_value - min_value) + min_value\n",
    "    return data"
   ]
  },
  {
   "cell_type": "code",
   "execution_count": null,
   "metadata": {},
   "outputs": [],
   "source": [
    "def train(model, days, train_loader, loss_fn, optimizer, epoch):\n",
    "    USE_CUDA = torch.cuda.is_available()\n",
    "    DEVICE = torch.device(\"cuda\" if USE_CUDA else \"cpu\")\n",
    "    model.train()\n",
    "    train_loss = 0\n",
    "    for batch_idx, (data, target) in enumerate(train_loader):\n",
    "        data, target = data.to(DEVICE), target.to(DEVICE)\n",
    "        optimizer.zero_grad()\n",
    "        output = model(data, days)\n",
    "        loss = loss_fn(output, target)\n",
    "        loss.backward()\n",
    "        optimizer.step()\n",
    "\n",
    "        if batch_idx % 30 == 0:\n",
    "            print('Train Epoch: {} [{}/{} ({:.0f}%)]\\tLoss: {:.6f}'.format(\n",
    "                epoch, batch_idx * len(data), len(train_loader.dataset),\n",
    "                100. * batch_idx / len(train_loader), loss.item()))\n",
    "        train_loss += loss.item()/len(train_loader)\n",
    "    return train_loss"
   ]
  },
  {
   "cell_type": "code",
   "execution_count": null,
   "metadata": {},
   "outputs": [],
   "source": [
    "def evaluate(model, days, test_loader, loss_fn):\n",
    "    USE_CUDA = torch.cuda.is_available()\n",
    "    DEVICE = torch.device(\"cuda\" if USE_CUDA else \"cpu\")\n",
    "    model.eval()\n",
    "    test_loss = 0\n",
    "    correct = 0\n",
    "    with torch.no_grad():\n",
    "        for data, target in test_loader:\n",
    "            data, target = data.to(DEVICE), target.to(DEVICE)\n",
    "            output = model(data, days)\n",
    "            # 배치 오차를 합산\n",
    "            test_loss += loss_fn(output, target).item()\n",
    "            # 예측값\n",
    "            pred = output\n",
    "    test_loss /= len(test_loader.dataset)\n",
    "    mse = mean_squared_error(target.cpu().detach().numpy(), pred.cpu().detach().numpy())\n",
    "    rmse = np.sqrt(mse)\n",
    "    mean = torch.mean(target)\n",
    "    nse = 1. - torch.sum(torch.square(target-pred))/torch.sum(torch.square(target-mean))\n",
    "    return test_loss, mse, rmse, nse"
   ]
  },
  {
   "cell_type": "code",
   "execution_count": null,
   "metadata": {},
   "outputs": [],
   "source": [
    "def save_model(model, path, name):\n",
    "    torch.save(model, './model/'+path+'/'+name+'.pt')\n",
    "    print(name+'.pt model save!!')"
   ]
  },
  {
   "cell_type": "code",
   "execution_count": 12,
   "metadata": {},
   "outputs": [],
   "source": [
    "def load_model(path, name):\n",
    "    device = torch.device('cpu')\n",
    "    model = torch.load(os.path.join(path, name+\".pt\"), map_location=device)\n",
    "    return model"
   ]
  },
  {
   "cell_type": "code",
   "execution_count": 2,
   "metadata": {},
   "outputs": [],
   "source": [
    "def result_view(model_result):\n",
    "    for i in range(len(model_result)):\n",
    "        fig = plt.figure(figsize=(10, 4))\n",
    "        plt.title(model_result[i]['feature'][0])\n",
    "        plt.plot(model_result[i]['epochs'], model_result[i]['train_loss'], label='train_loss')\n",
    "        plt.plot(model_result[i]['epochs'], model_result[i]['test_loss'], label='test_loss')\n",
    "        plt.plot(model_result[i]['epochs'], model_result[i]['test_rmse'], label='test_rmse')\n",
    "        plt.plot(model_result[i]['epochs'], model_result[i]['test_nse'], label='test_nse')\n",
    "        plt.legend()\n",
    "        plt.show()"
   ]
  },
  {
   "cell_type": "code",
   "execution_count": 3,
   "metadata": {},
   "outputs": [],
   "source": [
    "def view_model(model, size):\n",
    "    aa = torch.tensor(torch.zeros(1, size[0], size[1]), device=\"cuda\", dtype=torch.float32)\n",
    "    summary(model, aa)"
   ]
  },
  {
   "cell_type": "code",
   "execution_count": 4,
   "metadata": {},
   "outputs": [],
   "source": [
    "def view_model2(model, size, days):\n",
    "    aa = torch.tensor(torch.zeros(1, size[0], size[1]), device=\"cuda\", dtype=torch.float32)\n",
    "    summary(model, aa, days)"
   ]
  },
  {
   "cell_type": "code",
   "execution_count": 5,
   "metadata": {},
   "outputs": [],
   "source": [
    "def result_ck(result):\n",
    "    tmp = result[0].tail(1)\n",
    "    for i in range(1, len(result)):\n",
    "        tmp = pd.concat([tmp, result[i].tail(1)], axis=0)\n",
    "    return tmp"
   ]
  },
  {
   "cell_type": "code",
   "execution_count": 6,
   "metadata": {},
   "outputs": [],
   "source": [
    "def get_m_list(tmp):\n",
    "    m_list = []\n",
    "    for i in range(len(tmp)):\n",
    "        if tmp.iloc[i]['drop_rate'] == 0:\n",
    "            if tmp.iloc[i]['epochs'] == 15:\n",
    "                if tmp.iloc[i]['batch'] == 32:\n",
    "                    m_list.append(0)\n",
    "                elif tmp.iloc[i]['batch'] == 64:\n",
    "                    m_list.append(1)\n",
    "            elif tmp.iloc[i]['epochs'] == 30:\n",
    "                if tmp.iloc[i]['batch'] == 32:\n",
    "                    m_list.append(2)\n",
    "                elif tmp.iloc[i]['batch'] == 64:\n",
    "                    m_list.append(3)\n",
    "        elif tmp.iloc[i]['drop_rate'] == 0.2:\n",
    "            if tmp.iloc[i]['epochs'] == 15:\n",
    "                if tmp.iloc[i]['batch'] == 32:\n",
    "                    m_list.append(4)\n",
    "                elif tmp.iloc[i]['batch'] == 64:\n",
    "                    m_list.append(5)\n",
    "            elif tmp.iloc[i]['epochs'] == 30:\n",
    "                if tmp.iloc[i]['batch'] == 32:\n",
    "                    m_list.append(6)\n",
    "                elif tmp.iloc[i]['batch'] == 64:\n",
    "                    m_list.append(7)\n",
    "        elif tmp.iloc[i]['drop_rate'] == 0.5:\n",
    "            if tmp.iloc[i]['epochs'] == 15:\n",
    "                if tmp.iloc[i]['batch'] == 32:\n",
    "                    m_list.append(8)\n",
    "                elif tmp.iloc[i]['batch'] == 64:\n",
    "                    m_list.append(9)\n",
    "            elif tmp.iloc[i]['epochs'] == 30:\n",
    "                if tmp.iloc[i]['batch'] == 32:\n",
    "                    m_list.append(10)\n",
    "                elif tmp.iloc[i]['batch'] == 64:\n",
    "                    m_list.append(11)\n",
    "    return m_list"
   ]
  },
  {
   "cell_type": "code",
   "execution_count": 7,
   "metadata": {},
   "outputs": [],
   "source": [
    "# for cnn\n",
    "def get_m_list2(tmp):\n",
    "    m_list = []\n",
    "    for i in range(len(tmp)):\n",
    "        if tmp.iloc[i]['drop_rate'] == 0:\n",
    "            if tmp.iloc[i]['batch'] == 32:\n",
    "                m_list.append(0)\n",
    "            elif tmp.iloc[i]['batch'] == 64:\n",
    "                m_list.append(1)\n",
    "        elif tmp.iloc[i]['drop_rate'] == 0.2:\n",
    "            if tmp.iloc[i]['batch'] == 32:\n",
    "                m_list.append(2)\n",
    "            elif tmp.iloc[i]['batch'] == 64:\n",
    "                    m_list.append(3)\n",
    "        elif tmp.iloc[i]['drop_rate'] == 0.5:\n",
    "            if tmp.iloc[i]['batch'] == 32:\n",
    "                m_list.append(4)\n",
    "            elif tmp.iloc[i]['batch'] == 64:\n",
    "                m_list.append(5)\n",
    "    return m_list"
   ]
  },
  {
   "cell_type": "code",
   "execution_count": 8,
   "metadata": {},
   "outputs": [],
   "source": [
    "def max_option(t, w_list):\n",
    "    tmp = t[t['feature']==w_list[0]].sort_values('test_nse').tail(1)\n",
    "    for i in range(1, len(w_list)):\n",
    "        tmp = pd.concat([tmp, t[t['feature']==w_list[i]].sort_values('test_nse').tail(1)])\n",
    "    return tmp"
   ]
  },
  {
   "cell_type": "code",
   "execution_count": 9,
   "metadata": {},
   "outputs": [],
   "source": [
    "# q_test로 이상치 확인\n",
    "def dixon_q_test(ip):\n",
    "    data = ip.copy()\n",
    "    col_list = data.columns[:-3]\n",
    "    n = len(data)\n",
    "    q = 0.321 # 환경부 기준 sample data 24개\n",
    "    for col in col_list:\n",
    "        cnt = 0\n",
    "        idx_list = []\n",
    "        for s in range(0, len(data), 24):\n",
    "            temp = data[col].iloc[s:s+24]\n",
    "            null_count = temp.isnull().sum()\n",
    "            sorted_col = temp.sort_values()\n",
    "            range_col = max(sorted_col) - min(sorted_col)\n",
    "            if (null_count < 10) and (range_col != np.nan):\n",
    "                for k in range(24):\n",
    "                    if k == 23:\n",
    "                        test_stat = abs(sorted_col.iloc[k] - sorted_col.iloc[k-1]) / abs(range_col)\n",
    "                    elif k < 23:   \n",
    "                        test_stat = abs(sorted_col.iloc[k] - sorted_col.iloc[k+1]) / abs(range_col)\n",
    "                    if test_stat > q:\n",
    "#                         print(sorted_col.index[k], col, test_stat, '값 이상치: 가설 기각(가설:이상치가 아닐 것이다)')\n",
    "                        cnt += 1\n",
    "                        idx_list.append(sorted_col.index[k])\n",
    "        data.loc[idx_list, col] = np.nan\n",
    "#         print(col, \"총{}개 가설 기각\".format(cnt))\n",
    "    return data"
   ]
  },
  {
   "cell_type": "code",
   "execution_count": null,
   "metadata": {},
   "outputs": [],
   "source": []
  }
 ],
 "metadata": {
  "kernelspec": {
   "display_name": "Python 3 (ipykernel)",
   "language": "python",
   "name": "python3"
  },
  "language_info": {
   "codemirror_mode": {
    "name": "ipython",
    "version": 3
   },
   "file_extension": ".py",
   "mimetype": "text/x-python",
   "name": "python",
   "nbconvert_exporter": "python",
   "pygments_lexer": "ipython3",
   "version": "3.9.7"
  }
 },
 "nbformat": 4,
 "nbformat_minor": 2
}
